{
 "cells": [
  {
   "cell_type": "code",
   "execution_count": null,
   "id": "9f499bfc-4974-4b6a-97a9-a9c181fcd8d7",
   "metadata": {},
   "outputs": [],
   "source": [
    "import numpy as np\n",
    "import pandas as pd\n",
    "import matplotlib.pyplot as plt\n",
    "import seaborn as sns\n",
    "import scanpy as sc\n",
    "import anndata\n",
    "import scanorama\n",
    "\n",
    "# sittings\n",
    "sns.set_style(\"ticks\",{'axes.grid' : True})"
   ]
  },
  {
   "cell_type": "markdown",
   "id": "33e906fe-eae9-4b8d-8502-b922a78fffa8",
   "metadata": {},
   "source": [
    "# Load the data\n",
    "Read the h5ad file we saved in the preprocessing and integration"
   ]
  },
  {
   "cell_type": "code",
   "execution_count": null,
   "id": "4c69f708-cb78-444b-8bca-9cefd08cc0b1",
   "metadata": {},
   "outputs": [],
   "source": [
    "# Load the saved AnnData object after Integrating\n",
    "adata = sc.read_h5ad(\"characterized.h5ad\")\n",
    "\n",
    "adata"
   ]
  },
  {
   "cell_type": "markdown",
   "id": "855610ee-aa3d-4126-b21a-bd67f8c49f4f",
   "metadata": {},
   "source": [
    "# Filter out the non myeloid cells"
   ]
  },
  {
   "cell_type": "code",
   "execution_count": null,
   "id": "1b1c79a0-dc2b-4232-b0ef-0cc031aa0f9f",
   "metadata": {},
   "outputs": [],
   "source": [
    "# Filter to allow only the cancer-associated fibroblast cells\n",
    "adata = adata[adata.obs.cell_type == 'myeloid']\n",
    "\n",
    "# Plot the UMAP of the cancer-associated fibroblast cells\n",
    "sc.pl.umap(adata, color = ['Sample'], frameon = False)\n",
    "\n",
    "adata"
   ]
  },
  {
   "cell_type": "markdown",
   "id": "9fcd485d-4e91-4d18-9aa7-0fdf290c5c5a",
   "metadata": {},
   "source": [
    "# Remove the points far from the center"
   ]
  },
  {
   "cell_type": "code",
   "execution_count": null,
   "id": "a23c7389-105e-44cd-9f6b-dc119ab955b5",
   "metadata": {},
   "outputs": [],
   "source": [
    "# identify the top farest points from the centroid on the umap\n",
    "umap_coords = adata.obsm[\"X_umap\"]\n",
    "umap_outlayer = adata.obs_names[np.argsort(np.linalg.norm(umap_coords - umap_coords.mean(axis=0), axis=1))[::-1][:15]] # only one outlayer\n",
    "\n",
    "# Remove the umap outlayers\n",
    "adata = adata[~adata.obs_names.isin(umap_outlayer)]\n",
    "\n",
    "# Plot the UMAP of the cancer-associated fibroblast cells without the outlayers\n",
    "sc.pl.umap(adata, color = ['Sample'], frameon = False)\n",
    "\n",
    "adata"
   ]
  },
  {
   "cell_type": "markdown",
   "id": "3fe981cb-969c-4679-b209-69d4a223ab87",
   "metadata": {},
   "source": [
    "# Categorize the myeloid according to their subtype using marker genes"
   ]
  },
  {
   "cell_type": "code",
   "execution_count": null,
   "id": "4a6a43bc-9993-4b97-b393-b91d33c6e76a",
   "metadata": {
    "tags": []
   },
   "outputs": [],
   "source": [
    "# Identify the marker genes\n",
    "marker_genes = {\n",
    "\"SPP1+macrophage\":[\"SPP1\", \"MARCO\"],\n",
    "\"C1QC+macrophage\":[\"C1QA\", \"C1QB\", \"C1QC\"],\n",
    "\"MDSC\":[\"S100A8\", \"S100A9\", \"S100A12\"],\n",
    "\"monocyte\":[\"FCGR3A\", \"CDKN1C\"],\n",
    "# \"cDC1\":[\"CLEC9A\", \"XCR1\"],\n",
    "\"cDC2\":[\"CD1C\", \"FCER1A\"],\n",
    "\"cDC3\":[\"CCL22\", \"CCR7\"],\n",
    "\"pDC\":[\"PLD4\"],\n",
    "\"proliferating\":[\"MKI67\"],\n",
    "\"KIT+mast\":[\"KIT\"],\n",
    "\"T\":[\"CD3E\"],\n",
    "# \"epithelial-like\":[\"KRT18, KRT19\"]\n",
    "}\n",
    "\n",
    "# Calculate cell type scores then visualize it\n",
    "for subtype, markers in marker_genes.items():\n",
    "    sc.tl.score_genes(adata, gene_list=markers, score_name=subtype) # Calculate cell type scores \n",
    "    sc.pl.umap(adata, color=[subtype, *markers], frameon = False) # Visualize cell type scores on UMAP\n",
    "\n",
    "# Identify the celltype according to maximum score\n",
    "adata.obs['cell_subtype'] = adata.obs[list(marker_genes.keys())].apply(lambda row: row.idxmax(), axis=1)\n",
    "\n",
    "# Visualize the results on the UMAP of CAFs\n",
    "sc.pl.umap(adata, color='cell_subtype', frameon = False)"
   ]
  },
  {
   "cell_type": "markdown",
   "id": "7f7e8d5f-289d-4179-81c5-0673ed541ca9",
   "metadata": {},
   "source": [
    "# Save images for the cell subtype clustering"
   ]
  },
  {
   "cell_type": "code",
   "execution_count": null,
   "id": "a70c16a8-5783-49b0-ae60-96ceb00f459e",
   "metadata": {
    "tags": []
   },
   "outputs": [],
   "source": [
    "# UMAP epithelial subtype alone\n",
    "_, axs = plt.subplots(figsize=(10,8))\n",
    "sc.pl.umap(adata, color = 'cell_subtype', frameon = False, save=f\"Myeloid_subtype.png\", ax=axs, size=100)\n",
    "\n",
    "# UMAP of the epithelial and proliferative epithelial cells and all other categories\n",
    "sc.pl.umap(adata, color = ['cell_type', 'cell_subtype', 'moffitt', 'treatment', 'stage', 'procedure', 'Sample'], frameon = False, save=f\"Myeloid_all.png\", size=50)"
   ]
  },
  {
   "cell_type": "markdown",
   "id": "1cd8f703-fc6c-4c95-822a-c1ff45328e86",
   "metadata": {},
   "source": [
    "# Make dot plot and stacked violin plot"
   ]
  },
  {
   "cell_type": "code",
   "execution_count": null,
   "id": "a5e3773e-7ff2-49d8-b424-eb0f199b3541",
   "metadata": {},
   "outputs": [],
   "source": [
    "# One dimensional list of all the marker genes\n",
    "markers = [gene for genes in list(marker_genes.values()) for gene in genes]\n",
    "\n",
    "# Visualize the marker genes in a dotplot\n",
    "sc.pl.dotplot(adata, markers, groupby='cell_subtype', categories_order=list(marker_genes.keys()), save='Myeloid_dotplot.png')\n",
    "\n",
    "# Visualize marker gene distributions in a dotplot\n",
    "sc.pl.stacked_violin(adata, markers, groupby='cell_subtype', categories_order=list(marker_genes.keys()), save='Myeloid_stacked_violin.png');"
   ]
  },
  {
   "cell_type": "markdown",
   "id": "78e545d2-2321-44a1-849e-224604aa348f",
   "metadata": {},
   "source": [
    "# Save the AnnData object in h5ad format"
   ]
  },
  {
   "cell_type": "code",
   "execution_count": null,
   "id": "37134b14-119a-4bf0-b2f0-7971e8dc6692",
   "metadata": {},
   "outputs": [],
   "source": [
    "adata.write_h5ad('Myeloid_subtype.h5ad')"
   ]
  }
 ],
 "metadata": {
  "kernelspec": {
   "display_name": "Python 3 (ipykernel)",
   "language": "python",
   "name": "python3"
  },
  "language_info": {
   "codemirror_mode": {
    "name": "ipython",
    "version": 3
   },
   "file_extension": ".py",
   "mimetype": "text/x-python",
   "name": "python",
   "nbconvert_exporter": "python",
   "pygments_lexer": "ipython3",
   "version": "3.10.11"
  }
 },
 "nbformat": 4,
 "nbformat_minor": 5
}
